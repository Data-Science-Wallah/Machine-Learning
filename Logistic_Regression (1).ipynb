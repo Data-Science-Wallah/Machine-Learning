{
  "nbformat": 4,
  "nbformat_minor": 0,
  "metadata": {
    "kernelspec": {
      "display_name": "Python 3",
      "language": "python",
      "name": "python3"
    },
    "language_info": {
      "codemirror_mode": {
        "name": "ipython",
        "version": 3
      },
      "file_extension": ".py",
      "mimetype": "text/x-python",
      "name": "python",
      "nbconvert_exporter": "python",
      "pygments_lexer": "ipython3",
      "version": "3.7.1"
    },
    "colab": {
      "provenance": []
    }
  },
  "cells": [
    {
      "cell_type": "markdown",
      "metadata": {
        "id": "JI1a1HXMjCxF"
      },
      "source": [
        "# <b> <u>Introduction: What is Logistic Regression? </u></b>\n",
        "\n",
        "### Logistic regression is a classification algorithm that predicts the probability of an outcome that can only have two values (i.e. a dichotomy). A logistic regression produces a logistic curve, which is limited to values between 0 and 1. Logistic regression models the probability that each input belongs to a particular category.\n",
        "\n",
        "### **Logistic regression** is an excellent tool to know for classification problems, which are problems where the output value that we wish to predict only takes on only a small number of discrete values. Here we'll focus on the binary classification problem, where the output can take on only two distinct classes."
      ]
    },
    {
      "cell_type": "markdown",
      "metadata": {
        "id": "uzXlk6_AJd6X"
      },
      "source": [
        "### In **Logistic Regression**, the log-odds of a categorical response being \"true\" (1) is modeled as a linear combination of the features:\n",
        "\n",
        "### \\begin{align*}\n",
        "    \\log \\left({p\\over 1-p}\\right) &= w_0 + w_1x_1, ..., w_jx_j \\nonumber \\\\\n",
        "    &= w^Tx \\nonumber\n",
        "\\end{align*}\n",
        "\n",
        "### where:\n",
        "\n",
        "- ### $w_{0}$ is the intercept term, and $w_1$ to $w_j$ represents the parameters for all the other features (a total of j features).\n",
        "- ### By convention of we can assume that $x_0 = 1$, so that we can re-write the whole thing using the matrix notation $w^Tx$.\n",
        "\n",
        "### This is called the **logit function**. The equation can be re-arranged into the **logistic function**:\n",
        "\n",
        "### $$p = \\frac{e^{w^Tx}} {1 + e^{w^Tx}}$$\n",
        "\n",
        "### Or in the more commonly seen form:\n",
        "\n",
        "### $$h_w(x) = \\frac{1}{ 1 + e^{-w^Tx} }$$"
      ]
    },
    {
      "cell_type": "code",
      "metadata": {
        "id": "nuVZJGddJ0IN"
      },
      "source": [
        "import numpy as np\n",
        "import pandas as pd\n",
        "import matplotlib.pyplot as plt\n",
        "from sklearn import metrics\n",
        "from sklearn.linear_model import LogisticRegression\n",
        "%matplotlib inline"
      ],
      "execution_count": 1,
      "outputs": []
    },
    {
      "cell_type": "code",
      "metadata": {
        "colab": {
          "base_uri": "https://localhost:8080/",
          "height": 452
        },
        "id": "2RMxmpMAJrFM",
        "outputId": "532feb53-f7c4-40ba-8d9c-64c85d3532a8"
      },
      "source": [
        "x_values = np.linspace(-5, 5, 100)\n",
        "y_values = [1 / (1 + np.exp(-x)) for x in x_values]\n",
        "plt.plot(x_values, y_values)\n",
        "plt.title('Logsitic Function')\n",
        "plt.show()"
      ],
      "execution_count": 36,
      "outputs": [
        {
          "output_type": "display_data",
          "data": {
            "text/plain": [
              "<Figure size 640x480 with 1 Axes>"
            ],
            "image/png": "[encoded data removed]"
          },
          "metadata": {}
        }
      ]
    },
    {
      "cell_type": "markdown",
      "metadata": {
        "id": "k2-ibqI4KIcw"
      },
      "source": [
        "### The **logistic function** has some nice properties. The y-value represents the probability and it is always bounded between 0 and 1, which is want we wanted for probabilities. For an x value of 0 you get a 0.5 probability. Also as you get more positive x value you get a higher probability, on the other hand, a more negative x value results in a lower probability."
      ]
    },
    {
      "cell_type": "markdown",
      "metadata": {
        "id": "rNOq4nsXLI-k"
      },
      "source": [
        "# <b><u> Defining the cost function for Logistic Regression </b>"
      ]
    },
    {
      "cell_type": "markdown",
      "metadata": {
        "id": "KwZhDMhIKfv0"
      },
      "source": [
        "### When utilizing logistic regression, we are trying to learn the $w$ values in order to maximize the probability of correctly classifying our glasses. Let's say someone did give us some $w$ values of the logistic regression model, how would we determine if they were good values or not? What we would hope is that for the household of class 1, the probability values are close to 1 and for the household of class 0 the probability is close to 0.\n",
        "\n",
        "### But we don't care about getting the correct probability for just one observation, we want to correctly classify all our observations. If we assume our data are independent and identically distributed (think of it as all of them are treated equally), we can just take the product of all our individually calculated probabilities and that becomes the objective function we want to maximize. So in math:  \n",
        "\n",
        "$$\\prod_{class1}h_w(x)\\prod_{class0}1 - h_w(x)$$\n",
        "\n",
        "### The $\\prod$ symbol means take the product of the $h_w(x)$ for the observations that are classified as that class. You will notice that for observations that are labeled as class 0, we are taking 1 minus the logistic function. That is because we are trying to find a value to maximize, and since observations that are labeled as class 0 should have a probability close to zero, 1 minus the probability should be close to 1. This procedure is also known as the **maximum likelihood estimation**.\n",
        "\n",
        "### Next we will re-write the original cost function as:\n",
        "\n",
        "### $$\\ell(w) = \\sum_{i=1}^{N}y_{i}log(h_w(x_{i})) + (1-y_{i})log(1-h_w(x_{i}))$$\n",
        "\n",
        "### where:\n",
        "\n",
        "- ### We define $y_{i}$ to be 1 when the $i_{th}$ observation is labeled class 1 and 0 when labeled as class 0, then we only compute $h_w(x_{i})$ for observations that are labeled class 1 and $1 - h_w(x_{i})$ for observations that are labeled class 0, which is still the same idea as the original function.\n",
        "- ### Next we'll transform the original $h_w(x_{i})$ by taking the log. As we'll later see this logarithm transformation will make our cost function more convenient to work with, and because the logarithm is a monotonically increasing function, the logarithm of a function achieves its maximum value at the same points as the function itself. When we take the log, our product across all data points, it becomes a sum.\n",
        "- ### The $N$ simply represents the total number of the data.\n",
        "\n",
        "### Often times you'll also see the notation above be simplified in the form of a maximum likelihood estimator:\n",
        "\n",
        "### $$ \\ell(w) = \\sum_{i=1}^{N} log \\big( P( y_i \\mid x_i, w ) \\big) $$\n",
        "\n",
        "### The equation above simply denotes the idea that , $\\mathbf{w}$ represents the parameters we would like to estimate the parameters $w$ by maximizing conditional probability of $y_i$ given $x_i$.\n",
        "\n",
        "### Now by definition of probability in the logistic regression model:\n",
        "###  $h_w(x_{i}) = \\frac{1}{1 + e^{-w^T x_i}}$ and $1- h_w(x_{i}) = \\frac{e^{ -w^T x_i }} {1 + e^{ -w^T x_i } }$.\n",
        "\n",
        "### By substituting these expressions into our $\\ell(w)$ equation and simplifying it further we can obtain  a simpler expression."
      ]
    },
    {
      "cell_type": "markdown",
      "metadata": {
        "id": "qETJQcp9LSPJ"
      },
      "source": [
        "### $$\n",
        "\\begin{align}\n",
        "\\ell(w)\n",
        "&= \\sum_{i=1}^{N}y_{i}log(h_w(x_{i})) + (1-y_{i})log(1-h_w(x_{i})) \\nonumber \\\\\n",
        "&= \\sum_{i=1}^{N} y_{i} log( \\frac{1}{ 1 + e^{ -w^T x_i } } ) + ( 1 - y_{i} )\n",
        "log( \\frac{ e^{ -w^T x_i } }{ 1 + e^{ -w^T x_i } } ) \\nonumber \\\\\n",
        "&= \\sum_{i=1}^{N} -y_{i} log( 1 + e^{ -w^T x_i } ) + ( 1 - y_{i} )\n",
        "( -w^T x_i - log( 1 + e^{ -w^T x_i } ) ) \\nonumber \\\\\n",
        "&= \\sum_{i=1}^{N} ( y_{i} - 1 ) ( w^T x_i ) - log( 1 + e^{ -w^T x_i } ) \\nonumber\n",
        "\\end{align}\n",
        "$$"
      ]
    },
    {
      "cell_type": "markdown",
      "metadata": {
        "id": "EfWrd0qrMFCt"
      },
      "source": [
        "# <b><u>Gradient Descent on Logistic Cost Function"
      ]
    },
    {
      "cell_type": "markdown",
      "metadata": {
        "id": "rqODmIKOMDY6"
      },
      "source": [
        "### Now that we obtain the formula to assess our algorithm, we'll dive into the meat of the algorithm, which is to derive the gradient for the formula (the derivative of the formula with respect to each coefficient):\n",
        "\n",
        "### $$\\ell(w) = \\sum_{i=1}^{N} ( y_{i} - 1 ) ( w^T x_i ) - log( 1 + e^{ -w^T x_i } )$$\n",
        "\n",
        "### And it turns out the derivative of log likelihood with respect to to a single coefficient $w_j$ is as follows (the form is the same for all coefficients):\n",
        "\n",
        "### $$\n",
        "\\frac{\\partial\\ell(w)}{\\partial w_j} = \\sum_{i=1}^N (x_{ij})\\left( y_i - \\frac{1}{ 1 + e^{-w^Tx_i} } \\right )\n",
        "$$\n",
        "\n",
        "### To compute it, you simply need the following two terms:\n",
        "\n",
        "- ### $\\left( y_i - \\frac{1}{ 1 + e^{-w^Tx_i} } \\right )$ is the vector containing the difference between the predicted probability and the original label.\n",
        "- ### $x_{ij}$ is the vector containing the $j_{th}$ feature's value."
      ]
    },
    {
      "cell_type": "markdown",
      "metadata": {
        "id": "-q_NlYDyN8Gm"
      },
      "source": [
        "## <b>Updating model parameters using Gradient Descent"
      ]
    },
    {
      "cell_type": "markdown",
      "metadata": {
        "id": "3JZmxEQXNzAf"
      },
      "source": [
        "### Recall our task is to find the optimal value for each individual weight to lower the cost. This requires taking the partial derivative of the cost/error function with respect to a single weight, and then running gradient descent for each individual weight to update them. Thus, for any individual weight $w_j$, we'll compute the following:\n",
        "\n",
        "### $$ w_j^{(t + 1)} = w_j^{(t)} + \\alpha * \\sum_{s = i}^{i+B} \\frac{\\partial\\ell_s(w)}{\\partial w_j}$$\n",
        "\n",
        "### where:\n",
        "\n",
        "- ### $\\alpha$ denotes the the learning rate or so called step size, in other places you'll see it denoted as $\\eta$.\n",
        "- ### $w_j^{(t)}$ denotes the weight of the $j_{th}$ feature at iteration $t$.\n",
        "\n",
        "### And we'll do this iteratively for each weight, many times, until the whole network's cost function is minimized."
      ]
    },
    {
      "cell_type": "markdown",
      "metadata": {
        "id": "d548MafmLHoK"
      },
      "source": [
        "# <b> <u> Implementing Logistic Regression in Python </u></b>"
      ]
    },
    {
      "cell_type": "markdown",
      "metadata": {
        "id": "6VVxIadNR4E2"
      },
      "source": [
        "### Let us now start implementing what we learned from the previous section into python codes. We will use the Telco Customer Churn data.\n",
        "\n",
        "## <b>What is Churn Prediction? </b>\n",
        "\n",
        "### Churn prediction is analytical studies on the possibility of a customer abandoning a product or service. The goal is to understand and take steps to change it before the costumer gives up the product or service.\n",
        "\n",
        "## <b>About Data </b>\n",
        "\n",
        "* ### customerID : Customer ID\n",
        "* ### gender : Whether the customer is a male or a female\n",
        "* ### SeniorCitizen : Whether the customer is a senior citizen or not (1, 0)\n",
        "* ### Partner : Whether the customer has a partner or not (Yes, No)\n",
        "* ### Dependents : Whether the customer has dependents or not (Yes, No)\n",
        "* ### tenure : Number of months the customer has stayed with the company\n",
        "* ### PhoneService : Whether the customer has a phone service or not (Yes, No)\n",
        "* ### MultipleLines : Whether the customer has multiple lines or not (Yes, No, No phone service)\n",
        "* ### InternetService : Customer’s internet service provider (DSL, Fiber optic, No)\n",
        "* ### OnlineSecurity : Whether the customer has online security or not (Yes, No, No internet service)\n",
        "* ### OnlineBackup : Whether the customer has online backup or not (Yes, No, No internet service)\n",
        "* ### DeviceProtection : Whether the customer has device protection or not (Yes, No, No internet service)\n",
        "* ### TechSupport : Whether the customer has tech support or not (Yes, No, No internet service)\n",
        "* ### StreamingTV : Whether the customer has streaming TV or not (Yes, No, No internet service)\n",
        "* ### StreamingMovies : Whether the customer has streaming movies or not (Yes, No, No internet service)\n",
        "* ### Contract : The contract term of the customer (Month-to-month, One year, Two year)\n",
        "* ### PaperlessBilling : Whether the customer has paperless billing or not (Yes, No)\n",
        "* ### PaymentMethod : The customer’s payment method (Electronic check, Mailed check, Bank transfer (automatic), Credit card (automatic))\n",
        "* ### MonthlyCharges : The amount charged to the customer monthly\n",
        "* ### TotalCharges : The total amount charged to the customer\n",
        "* ### Churn : Whether the customer churned or not (Yes or No)"
      ]
    },
    {
      "cell_type": "markdown",
      "metadata": {
        "id": "iGVWaTxiSGQs"
      },
      "source": [
        "![Churn.png](data:image/png;base64,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)"
      ]
    },
    {
      "cell_type": "markdown",
      "metadata": {
        "_uuid": "6bad8a2a7bb329186fa9d53b0fbdca646ecb13ae",
        "id": "SeBAZclRHmeT"
      },
      "source": [
        "## **Dataset initialization**"
      ]
    },
    {
      "cell_type": "code",
      "metadata": {
        "trusted": true,
        "_uuid": "d7723b475a93783962f05ffdb404eabd59c5a335",
        "id": "aIVDrnp6HmeT",
        "colab": {
          "base_uri": "https://localhost:8080/"
        },
        "outputId": "5eaff26e-f120-41a4-c4ef-be00bbcad2b1"
      },
      "source": [
        "data = pd.read_csv(\"/content/WA_Fn-UseC_-Telco-Customer-Churn.csv\")\n",
        "print(\"Dataset size\")\n",
        "print(\"Rows {} Columns {}\".format(data.shape[0], data.shape[1]))"
      ],
      "execution_count": 3,
      "outputs": [
        {
          "output_type": "stream",
          "name": "stdout",
          "text": [
            "Dataset size\n",
            "Rows 7043 Columns 21\n"
          ]
        }
      ]
    },
    {
      "cell_type": "code",
      "source": [
        "data.head()"
      ],
      "metadata": {
        "colab": {
          "base_uri": "https://localhost:8080/",
          "height": 342
        },
        "id": "DyEq3WtDiRqh",
        "outputId": "c230fc60-df2c-4ba1-8f82-b228cc600902"
      },
      "execution_count": 37,
      "outputs": [
        {
          "output_type": "execute_result",
          "data": {
            "text/plain": [
              "   customerID  gender  SeniorCitizen Partner Dependents  tenure PhoneService  \\\n",
              "0  7590-VHVEG  Female              0     Yes         No       1           No   \n",
              "1  5575-GNVDE    Male              0      No         No      34          Yes   \n",
              "2  3668-QPYBK    Male              0      No         No       2          Yes   \n",
              "3  7795-CFOCW    Male              0      No         No      45           No   \n",
              "4  9237-HQITU  Female              0      No         No       2          Yes   \n",
              "\n",
              "      MultipleLines InternetService OnlineSecurity  ... DeviceProtection  \\\n",
              "0  No phone service             DSL             No  ...               No   \n",
              "1                No             DSL            Yes  ...              Yes   \n",
              "2                No             DSL            Yes  ...               No   \n",
              "3  No phone service             DSL            Yes  ...              Yes   \n",
              "4                No     Fiber optic             No  ...               No   \n",
              "\n",
              "  TechSupport StreamingTV StreamingMovies        Contract PaperlessBilling  \\\n",
              "0          No          No              No  Month-to-month              Yes   \n",
              "1          No          No              No        One year               No   \n",
              "2          No          No              No  Month-to-month              Yes   \n",
              "3         Yes          No              No        One year               No   \n",
              "4          No          No              No  Month-to-month              Yes   \n",
              "\n",
              "               PaymentMethod MonthlyCharges  TotalCharges Churn  \n",
              "0           Electronic check          29.85         29.85    No  \n",
              "1               Mailed check          56.95        1889.5    No  \n",
              "2               Mailed check          53.85        108.15   Yes  \n",
              "3  Bank transfer (automatic)          42.30       1840.75    No  \n",
              "4           Electronic check          70.70        151.65   Yes  \n",
              "\n",
              "[5 rows x 21 columns]"
            ],
            "text/html": [
              "\n",
              "  <div id=\"df-c73d873d-23d5-477a-bb7b-098ece5be036\" class=\"colab-df-container\">\n",
              "    <div>\n",
              "<style scoped>\n",
              "    .dataframe tbody tr th:only-of-type {\n",
              "        vertical-align: middle;\n",
              "    }\n",
              "\n",
              "    .dataframe tbody tr th {\n",
              "        vertical-align: top;\n",
              "    }\n",
              "\n",
              "    .dataframe thead th {\n",
              "        text-align: right;\n",
              "    }\n",
              "</style>\n",
              "<table border=\"1\" class=\"dataframe\">\n",
              "  <thead>\n",
              "    <tr style=\"text-align: right;\">\n",
              "      <th></th>\n",
              "      <th>customerID</th>\n",
              "      <th>gender</th>\n",
              "      <th>SeniorCitizen</th>\n",
              "      <th>Partner</th>\n",
              "      <th>Dependents</th>\n",
              "      <th>tenure</th>\n",
              "      <th>PhoneService</th>\n",
              "      <th>MultipleLines</th>\n",
              "      <th>InternetService</th>\n",
              "      <th>OnlineSecurity</th>\n",
              "      <th>...</th>\n",
              "      <th>DeviceProtection</th>\n",
              "      <th>TechSupport</th>\n",
              "      <th>StreamingTV</th>\n",
              "      <th>StreamingMovies</th>\n",
              "      <th>Contract</th>\n",
              "      <th>PaperlessBilling</th>\n",
              "      <th>PaymentMethod</th>\n",
              "      <th>MonthlyCharges</th>\n",
              "      <th>TotalCharges</th>\n",
              "      <th>Churn</th>\n",
              "    </tr>\n",
              "  </thead>\n",
              "  <tbody>\n",
              "    <tr>\n",
              "      <th>0</th>\n",
              "      <td>7590-VHVEG</td>\n",
              "      <td>Female</td>\n",
              "      <td>0</td>\n",
              "      <td>Yes</td>\n",
              "      <td>No</td>\n",
              "      <td>1</td>\n",
              "      <td>No</td>\n",
              "      <td>No phone service</td>\n",
              "      <td>DSL</td>\n",
              "      <td>No</td>\n",
              "      <td>...</td>\n",
              "      <td>No</td>\n",
              "      <td>No</td>\n",
              "      <td>No</td>\n",
              "      <td>No</td>\n",
              "      <td>Month-to-month</td>\n",
              "      <td>Yes</td>\n",
              "      <td>Electronic check</td>\n",
              "      <td>29.85</td>\n",
              "      <td>29.85</td>\n",
              "      <td>No</td>\n",
              "    </tr>\n",
              "    <tr>\n",
              "      <th>1</th>\n",
              "      <td>5575-GNVDE</td>\n",
              "      <td>Male</td>\n",
              "      <td>0</td>\n",
              "      <td>No</td>\n",
              "      <td>No</td>\n",
              "      <td>34</td>\n",
              "      <td>Yes</td>\n",
              "      <td>No</td>\n",
              "      <td>DSL</td>\n",
              "      <td>Yes</td>\n",
              "      <td>...</td>\n",
              "      <td>Yes</td>\n",
              "      <td>No</td>\n",
              "      <td>No</td>\n",
              "      <td>No</td>\n",
              "      <td>One year</td>\n",
              "      <td>No</td>\n",
              "      <td>Mailed check</td>\n",
              "      <td>56.95</td>\n",
              "      <td>1889.5</td>\n",
              "      <td>No</td>\n",
              "    </tr>\n",
              "    <tr>\n",
              "      <th>2</th>\n",
              "      <td>3668-QPYBK</td>\n",
              "      <td>Male</td>\n",
              "      <td>0</td>\n",
              "      <td>No</td>\n",
              "      <td>No</td>\n",
              "      <td>2</td>\n",
              "      <td>Yes</td>\n",
              "      <td>No</td>\n",
              "      <td>DSL</td>\n",
              "      <td>Yes</td>\n",
              "      <td>...</td>\n",
              "      <td>No</td>\n",
              "      <td>No</td>\n",
              "      <td>No</td>\n",
              "      <td>No</td>\n",
              "      <td>Month-to-month</td>\n",
              "      <td>Yes</td>\n",
              "      <td>Mailed check</td>\n",
              "      <td>53.85</td>\n",
              "      <td>108.15</td>\n",
              "      <td>Yes</td>\n",
              "    </tr>\n",
              "    <tr>\n",
              "      <th>3</th>\n",
              "      <td>7795-CFOCW</td>\n",
              "      <td>Male</td>\n",
              "      <td>0</td>\n",
              "      <td>No</td>\n",
              "      <td>No</td>\n",
              "      <td>45</td>\n",
              "      <td>No</td>\n",
              "      <td>No phone service</td>\n",
              "      <td>DSL</td>\n",
              "      <td>Yes</td>\n",
              "      <td>...</td>\n",
              "      <td>Yes</td>\n",
              "      <td>Yes</td>\n",
              "      <td>No</td>\n",
              "      <td>No</td>\n",
              "      <td>One year</td>\n",
              "      <td>No</td>\n",
              "      <td>Bank transfer (automatic)</td>\n",
              "      <td>42.30</td>\n",
              "      <td>1840.75</td>\n",
              "      <td>No</td>\n",
              "    </tr>\n",
              "    <tr>\n",
              "      <th>4</th>\n",
              "      <td>9237-HQITU</td>\n",
              "      <td>Female</td>\n",
              "      <td>0</td>\n",
              "      <td>No</td>\n",
              "      <td>No</td>\n",
              "      <td>2</td>\n",
              "      <td>Yes</td>\n",
              "      <td>No</td>\n",
              "      <td>Fiber optic</td>\n",
              "      <td>No</td>\n",
              "      <td>...</td>\n",
              "      <td>No</td>\n",
              "      <td>No</td>\n",
              "      <td>No</td>\n",
              "      <td>No</td>\n",
              "      <td>Month-to-month</td>\n",
              "      <td>Yes</td>\n",
              "      <td>Electronic check</td>\n",
              "      <td>70.70</td>\n",
              "      <td>151.65</td>\n",
              "      <td>Yes</td>\n",
              "    </tr>\n",
              "  </tbody>\n",
              "</table>\n",
              "<p>5 rows × 21 columns</p>\n",
              "</div>\n",
              "    <div class=\"colab-df-buttons\">\n",
              "\n",
              "  <div class=\"colab-df-container\">\n",
              "    <button class=\"colab-df-convert\" onclick=\"convertToInteractive('df-c73d873d-23d5-477a-bb7b-098ece5be036')\"\n",
              "            title=\"Convert this dataframe to an interactive table.\"\n",
              "            style=\"display:none;\">\n",
              "\n",
              "  <svg xmlns=\"http://www.w3.org/2000/svg\" height=\"24px\" viewBox=\"0 -960 960 960\">\n",
              "    <path d=\"M120-120v-720h720v720H120Zm60-500h600v-160H180v160Zm220 220h160v-160H400v160Zm0 220h160v-160H400v160ZM180-400h160v-160H180v160Zm440 0h160v-160H620v160ZM180-180h160v-160H180v160Zm440 0h160v-160H620v160Z\"/>\n",
              "  </svg>\n",
              "    </button>\n",
              "\n",
              "  <style>\n",
              "    .colab-df-container {\n",
              "      display:flex;\n",
              "      gap: 12px;\n",
              "    }\n",
              "\n",
              "    .colab-df-convert {\n",
              "      background-color: #E8F0FE;\n",
              "      border: none;\n",
              "      border-radius: 50%;\n",
              "      cursor: pointer;\n",
              "      display: none;\n",
              "      fill: #1967D2;\n",
              "      height: 32px;\n",
              "      padding: 0 0 0 0;\n",
              "      width: 32px;\n",
              "    }\n",
              "\n",
              "    .colab-df-convert:hover {\n",
              "      background-color: #E2EBFA;\n",
              "      box-shadow: 0px 1px 2px rgba(60, 64, 67, 0.3), 0px 1px 3px 1px rgba(60, 64, 67, 0.15);\n",
              "      fill: #174EA6;\n",
              "    }\n",
              "\n",
              "    .colab-df-buttons div {\n",
              "      margin-bottom: 4px;\n",
              "    }\n",
              "\n",
              "    [theme=dark] .colab-df-convert {\n",
              "      background-color: #3B4455;\n",
              "      fill: #D2E3FC;\n",
              "    }\n",
              "\n",
              "    [theme=dark] .colab-df-convert:hover {\n",
              "      background-color: #434B5C;\n",
              "      box-shadow: 0px 1px 3px 1px rgba(0, 0, 0, 0.15);\n",
              "      filter: drop-shadow(0px 1px 2px rgba(0, 0, 0, 0.3));\n",
              "      fill: #FFFFFF;\n",
              "    }\n",
              "  </style>\n",
              "\n",
              "    <script>\n",
              "      const buttonEl =\n",
              "        document.querySelector('#df-c73d873d-23d5-477a-bb7b-098ece5be036 button.colab-df-convert');\n",
              "      buttonEl.style.display =\n",
              "        google.colab.kernel.accessAllowed ? 'block' : 'none';\n",
              "\n",
              "      async function convertToInteractive(key) {\n",
              "        const element = document.querySelector('#df-c73d873d-23d5-477a-bb7b-098ece5be036');\n",
              "        const dataTable =\n",
              "          await google.colab.kernel.invokeFunction('convertToInteractive',\n",
              "                                                    [key], {});\n",
              "        if (!dataTable) return;\n",
              "\n",
              "        const docLinkHtml = 'Like what you see? Visit the ' +\n",
              "          '<a target=\"_blank\" href=https://colab.research.google.com/notebooks/data_table.ipynb>data table notebook</a>'\n",
              "          + ' to learn more about interactive tables.';\n",
              "        element.innerHTML = '';\n",
              "        dataTable['output_type'] = 'display_data';\n",
              "        await google.colab.output.renderOutput(dataTable, element);\n",
              "        const docLink = document.createElement('div');\n",
              "        docLink.innerHTML = docLinkHtml;\n",
              "        element.appendChild(docLink);\n",
              "      }\n",
              "    </script>\n",
              "  </div>\n",
              "\n",
              "\n",
              "<div id=\"df-759e41e8-2115-44b9-9d1f-31a50ab714ac\">\n",
              "  <button class=\"colab-df-quickchart\" onclick=\"quickchart('df-759e41e8-2115-44b9-9d1f-31a50ab714ac')\"\n",
              "            title=\"Suggest charts.\"\n",
              "            style=\"display:none;\">\n",
              "\n",
              "<svg xmlns=\"http://www.w3.org/2000/svg\" height=\"24px\"viewBox=\"0 0 24 24\"\n",
              "     width=\"24px\">\n",
              "    <g>\n",
              "        <path d=\"M19 3H5c-1.1 0-2 .9-2 2v14c0 1.1.9 2 2 2h14c1.1 0 2-.9 2-2V5c0-1.1-.9-2-2-2zM9 17H7v-7h2v7zm4 0h-2V7h2v10zm4 0h-2v-4h2v4z\"/>\n",
              "    </g>\n",
              "</svg>\n",
              "  </button>\n",
              "\n",
              "<style>\n",
              "  .colab-df-quickchart {\n",
              "    background-color: #E8F0FE;\n",
              "    border: none;\n",
              "    border-radius: 50%;\n",
              "    cursor: pointer;\n",
              "    display: none;\n",
              "    fill: #1967D2;\n",
              "    height: 32px;\n",
              "    padding: 0 0 0 0;\n",
              "    width: 32px;\n",
              "  }\n",
              "\n",
              "  .colab-df-quickchart:hover {\n",
              "    background-color: #E2EBFA;\n",
              "    box-shadow: 0px 1px 2px rgba(60, 64, 67, 0.3), 0px 1px 3px 1px rgba(60, 64, 67, 0.15);\n",
              "    fill: #174EA6;\n",
              "  }\n",
              "\n",
              "  [theme=dark] .colab-df-quickchart {\n",
              "    background-color: #3B4455;\n",
              "    fill: #D2E3FC;\n",
              "  }\n",
              "\n",
              "  [theme=dark] .colab-df-quickchart:hover {\n",
              "    background-color: #434B5C;\n",
              "    box-shadow: 0px 1px 3px 1px rgba(0, 0, 0, 0.15);\n",
              "    filter: drop-shadow(0px 1px 2px rgba(0, 0, 0, 0.3));\n",
              "    fill: #FFFFFF;\n",
              "  }\n",
              "</style>\n",
              "\n",
              "  <script>\n",
              "    async function quickchart(key) {\n",
              "      const charts = await google.colab.kernel.invokeFunction(\n",
              "          'suggestCharts', [key], {});\n",
              "    }\n",
              "    (() => {\n",
              "      let quickchartButtonEl =\n",
              "        document.querySelector('#df-759e41e8-2115-44b9-9d1f-31a50ab714ac button');\n",
              "      quickchartButtonEl.style.display =\n",
              "        google.colab.kernel.accessAllowed ? 'block' : 'none';\n",
              "    })();\n",
              "  </script>\n",
              "</div>\n",
              "    </div>\n",
              "  </div>\n"
            ]
          },
          "metadata": {},
          "execution_count": 37
        }
      ]
    },
    {
      "cell_type": "code",
      "metadata": {
        "trusted": true,
        "_uuid": "7605b4f1b5ec77fb1efc592295339da27f4fe01e",
        "scrolled": false,
        "id": "8G7qkMFyHmeT",
        "colab": {
          "base_uri": "https://localhost:8080/",
          "height": 725
        },
        "outputId": "9f49f1d5-d494-4abe-af95-be8438349c65"
      },
      "source": [
        "print(\"Columns and data types\")\n",
        "pd.DataFrame(data.dtypes).rename(columns = {0:'dtype'})"
      ],
      "execution_count": 4,
      "outputs": [
        {
          "output_type": "stream",
          "name": "stdout",
          "text": [
            "Columns and data types\n"
          ]
        },
        {
          "output_type": "execute_result",
          "data": {
            "text/plain": [
              "                    dtype\n",
              "customerID         object\n",
              "gender             object\n",
              "SeniorCitizen       int64\n",
              "Partner            object\n",
              "Dependents         object\n",
              "tenure              int64\n",
              "PhoneService       object\n",
              "MultipleLines      object\n",
              "InternetService    object\n",
              "OnlineSecurity     object\n",
              "OnlineBackup       object\n",
              "DeviceProtection   object\n",
              "TechSupport        object\n",
              "StreamingTV        object\n",
              "StreamingMovies    object\n",
              "Contract           object\n",
              "PaperlessBilling   object\n",
              "PaymentMethod      object\n",
              "MonthlyCharges    float64\n",
              "TotalCharges       object\n",
              "Churn              object"
            ],
            "text/html": [
              "\n",
              "  <div id=\"df-f27e050f-32c9-40aa-be4b-3dd991c65752\" class=\"colab-df-container\">\n",
              "    <div>\n",
              "<style scoped>\n",
              "    .dataframe tbody tr th:only-of-type {\n",
              "        vertical-align: middle;\n",
              "    }\n",
              "\n",
              "    .dataframe tbody tr th {\n",
              "        vertical-align: top;\n",
              "    }\n",
              "\n",
              "    .dataframe thead th {\n",
              "        text-align: right;\n",
              "    }\n",
              "</style>\n",
              "<table border=\"1\" class=\"dataframe\">\n",
              "  <thead>\n",
              "    <tr style=\"text-align: right;\">\n",
              "      <th></th>\n",
              "      <th>dtype</th>\n",
              "    </tr>\n",
              "  </thead>\n",
              "  <tbody>\n",
              "    <tr>\n",
              "      <th>customerID</th>\n",
              "      <td>object</td>\n",
              "    </tr>\n",
              "    <tr>\n",
              "      <th>gender</th>\n",
              "      <td>object</td>\n",
              "    </tr>\n",
              "    <tr>\n",
              "      <th>SeniorCitizen</th>\n",
              "      <td>int64</td>\n",
              "    </tr>\n",
              "    <tr>\n",
              "      <th>Partner</th>\n",
              "      <td>object</td>\n",
              "    </tr>\n",
              "    <tr>\n",
              "      <th>Dependents</th>\n",
              "      <td>object</td>\n",
              "    </tr>\n",
              "    <tr>\n",
              "      <th>tenure</th>\n",
              "      <td>int64</td>\n",
              "    </tr>\n",
              "    <tr>\n",
              "      <th>PhoneService</th>\n",
              "      <td>object</td>\n",
              "    </tr>\n",
              "    <tr>\n",
              "      <th>MultipleLines</th>\n",
              "      <td>object</td>\n",
              "    </tr>\n",
              "    <tr>\n",
              "      <th>InternetService</th>\n",
              "      <td>object</td>\n",
              "    </tr>\n",
              "    <tr>\n",
              "      <th>OnlineSecurity</th>\n",
              "      <td>object</td>\n",
              "    </tr>\n",
              "    <tr>\n",
              "      <th>OnlineBackup</th>\n",
              "      <td>object</td>\n",
              "    </tr>\n",
              "    <tr>\n",
              "      <th>DeviceProtection</th>\n",
              "      <td>object</td>\n",
              "    </tr>\n",
              "    <tr>\n",
              "      <th>TechSupport</th>\n",
              "      <td>object</td>\n",
              "    </tr>\n",
              "    <tr>\n",
              "      <th>StreamingTV</th>\n",
              "      <td>object</td>\n",
              "    </tr>\n",
              "    <tr>\n",
              "      <th>StreamingMovies</th>\n",
              "      <td>object</td>\n",
              "    </tr>\n",
              "    <tr>\n",
              "      <th>Contract</th>\n",
              "      <td>object</td>\n",
              "    </tr>\n",
              "    <tr>\n",
              "      <th>PaperlessBilling</th>\n",
              "      <td>object</td>\n",
              "    </tr>\n",
              "    <tr>\n",
              "      <th>PaymentMethod</th>\n",
              "      <td>object</td>\n",
              "    </tr>\n",
              "    <tr>\n",
              "      <th>MonthlyCharges</th>\n",
              "      <td>float64</td>\n",
              "    </tr>\n",
              "    <tr>\n",
              "      <th>TotalCharges</th>\n",
              "      <td>object</td>\n",
              "    </tr>\n",
              "    <tr>\n",
              "      <th>Churn</th>\n",
              "      <td>object</td>\n",
              "    </tr>\n",
              "  </tbody>\n",
              "</table>\n",
              "</div>\n",
              "    <div class=\"colab-df-buttons\">\n",
              "\n",
              "  <div class=\"colab-df-container\">\n",
              "    <button class=\"colab-df-convert\" onclick=\"convertToInteractive('df-f27e050f-32c9-40aa-be4b-3dd991c65752')\"\n",
              "            title=\"Convert this dataframe to an interactive table.\"\n",
              "            style=\"display:none;\">\n",
              "\n",
              "  <svg xmlns=\"http://www.w3.org/2000/svg\" height=\"24px\" viewBox=\"0 -960 960 960\">\n",
              "    <path d=\"M120-120v-720h720v720H120Zm60-500h600v-160H180v160Zm220 220h160v-160H400v160Zm0 220h160v-160H400v160ZM180-400h160v-160H180v160Zm440 0h160v-160H620v160ZM180-180h160v-160H180v160Zm440 0h160v-160H620v160Z\"/>\n",
              "  </svg>\n",
              "    </button>\n",
              "\n",
              "  <style>\n",
              "    .colab-df-container {\n",
              "      display:flex;\n",
              "      gap: 12px;\n",
              "    }\n",
              "\n",
              "    .colab-df-convert {\n",
              "      background-color: #E8F0FE;\n",
              "      border: none;\n",
              "      border-radius: 50%;\n",
              "      cursor: pointer;\n",
              "      display: none;\n",
              "      fill: #1967D2;\n",
              "      height: 32px;\n",
              "      padding: 0 0 0 0;\n",
              "      width: 32px;\n",
              "    }\n",
              "\n",
              "    .colab-df-convert:hover {\n",
              "      background-color: #E2EBFA;\n",
              "      box-shadow: 0px 1px 2px rgba(60, 64, 67, 0.3), 0px 1px 3px 1px rgba(60, 64, 67, 0.15);\n",
              "      fill: #174EA6;\n",
              "    }\n",
              "\n",
              "    .colab-df-buttons div {\n",
              "      margin-bottom: 4px;\n",
              "    }\n",
              "\n",
              "    [theme=dark] .colab-df-convert {\n",
              "      background-color: #3B4455;\n",
              "      fill: #D2E3FC;\n",
              "    }\n",
              "\n",
              "    [theme=dark] .colab-df-convert:hover {\n",
              "      background-color: #434B5C;\n",
              "      box-shadow: 0px 1px 3px 1px rgba(0, 0, 0, 0.15);\n",
              "      filter: drop-shadow(0px 1px 2px rgba(0, 0, 0, 0.3));\n",
              "      fill: #FFFFFF;\n",
              "    }\n",
              "  </style>\n",
              "\n",
              "    <script>\n",
              "      const buttonEl =\n",
              "        document.querySelector('#df-f27e050f-32c9-40aa-be4b-3dd991c65752 button.colab-df-convert');\n",
              "      buttonEl.style.display =\n",
              "        google.colab.kernel.accessAllowed ? 'block' : 'none';\n",
              "\n",
              "      async function convertToInteractive(key) {\n",
              "        const element = document.querySelector('#df-f27e050f-32c9-40aa-be4b-3dd991c65752');\n",
              "        const dataTable =\n",
              "          await google.colab.kernel.invokeFunction('convertToInteractive',\n",
              "                                                    [key], {});\n",
              "        if (!dataTable) return;\n",
              "\n",
              "        const docLinkHtml = 'Like what you see? Visit the ' +\n",
              "          '<a target=\"_blank\" href=https://colab.research.google.com/notebooks/data_table.ipynb>data table notebook</a>'\n",
              "          + ' to learn more about interactive tables.';\n",
              "        element.innerHTML = '';\n",
              "        dataTable['output_type'] = 'display_data';\n",
              "        await google.colab.output.renderOutput(dataTable, element);\n",
              "        const docLink = document.createElement('div');\n",
              "        docLink.innerHTML = docLinkHtml;\n",
              "        element.appendChild(docLink);\n",
              "      }\n",
              "    </script>\n",
              "  </div>\n",
              "\n",
              "\n",
              "<div id=\"df-e61f3a53-0380-4522-b29f-75c9208c5a36\">\n",
              "  <button class=\"colab-df-quickchart\" onclick=\"quickchart('df-e61f3a53-0380-4522-b29f-75c9208c5a36')\"\n",
              "            title=\"Suggest charts.\"\n",
              "            style=\"display:none;\">\n",
              "\n",
              "<svg xmlns=\"http://www.w3.org/2000/svg\" height=\"24px\"viewBox=\"0 0 24 24\"\n",
              "     width=\"24px\">\n",
              "    <g>\n",
              "        <path d=\"M19 3H5c-1.1 0-2 .9-2 2v14c0 1.1.9 2 2 2h14c1.1 0 2-.9 2-2V5c0-1.1-.9-2-2-2zM9 17H7v-7h2v7zm4 0h-2V7h2v10zm4 0h-2v-4h2v4z\"/>\n",
              "    </g>\n",
              "</svg>\n",
              "  </button>\n",
              "\n",
              "<style>\n",
              "  .colab-df-quickchart {\n",
              "    background-color: #E8F0FE;\n",
              "    border: none;\n",
              "    border-radius: 50%;\n",
              "    cursor: pointer;\n",
              "    display: none;\n",
              "    fill: #1967D2;\n",
              "    height: 32px;\n",
              "    padding: 0 0 0 0;\n",
              "    width: 32px;\n",
              "  }\n",
              "\n",
              "  .colab-df-quickchart:hover {\n",
              "    background-color: #E2EBFA;\n",
              "    box-shadow: 0px 1px 2px rgba(60, 64, 67, 0.3), 0px 1px 3px 1px rgba(60, 64, 67, 0.15);\n",
              "    fill: #174EA6;\n",
              "  }\n",
              "\n",
              "  [theme=dark] .colab-df-quickchart {\n",
              "    background-color: #3B4455;\n",
              "    fill: #D2E3FC;\n",
              "  }\n",
              "\n",
              "  [theme=dark] .colab-df-quickchart:hover {\n",
              "    background-color: #434B5C;\n",
              "    box-shadow: 0px 1px 3px 1px rgba(0, 0, 0, 0.15);\n",
              "    filter: drop-shadow(0px 1px 2px rgba(0, 0, 0, 0.3));\n",
              "    fill: #FFFFFF;\n",
              "  }\n",
              "</style>\n",
              "\n",
              "  <script>\n",
              "    async function quickchart(key) {\n",
              "      const charts = await google.colab.kernel.invokeFunction(\n",
              "          'suggestCharts', [key], {});\n",
              "    }\n",
              "    (() => {\n",
              "      let quickchartButtonEl =\n",
              "        document.querySelector('#df-e61f3a53-0380-4522-b29f-75c9208c5a36 button');\n",
              "      quickchartButtonEl.style.display =\n",
              "        google.colab.kernel.accessAllowed ? 'block' : 'none';\n",
              "    })();\n",
              "  </script>\n",
              "</div>\n",
              "    </div>\n",
              "  </div>\n"
            ]
          },
          "metadata": {},
          "execution_count": 4
        }
      ]
    },
    {
      "cell_type": "code",
      "metadata": {
        "trusted": true,
        "_uuid": "d267dec8e9e139dcbeb17d1b7f371e44d64f392b",
        "id": "zo7Ilq4THmeU"
      },
      "source": [
        "df = data.copy()"
      ],
      "execution_count": 5,
      "outputs": []
    },
    {
      "cell_type": "markdown",
      "metadata": {
        "_uuid": "d8b971a323629fffe8e27aa09f2eae1b0f05e0a6",
        "id": "wxKLK3pqHmeU"
      },
      "source": [
        "### That's a lot of columns, to simplify our experiment we will only use 2 features **tenure** and **MonthlyCharges** and the target would be **Churn**  of course. Let us do a simple EDA and visualization on our features and target."
      ]
    },
    {
      "cell_type": "markdown",
      "metadata": {
        "_uuid": "074b7104853ee4f2064798f58df4682a5fc9ab12",
        "id": "9l80IXbpHmeU"
      },
      "source": [
        "### EDA: Independent variables\n",
        "\n"
      ]
    },
    {
      "cell_type": "code",
      "metadata": {
        "id": "8zlchotCTDAX"
      },
      "source": [
        "import pandas as pd\n",
        "import numpy as np\n",
        "import matplotlib.pyplot as plt"
      ],
      "execution_count": 6,
      "outputs": []
    },
    {
      "cell_type": "code",
      "metadata": {
        "colab": {
          "base_uri": "https://localhost:8080/",
          "height": 578
        },
        "id": "OQyR3SZ_V5OB",
        "outputId": "18b6212b-cdf1-4308-8f01-e14294a173a8"
      },
      "source": [
        "fig = plt.figure(figsize=(9, 6))\n",
        "ax = fig.gca()\n",
        "df.boxplot(column = 'MonthlyCharges', by = 'Churn', ax = ax)\n",
        "ax.set_ylabel(\"MonthlyCharges\")\n",
        "plt.show()"
      ],
      "execution_count": 7,
      "outputs": [
        {
          "output_type": "display_data",
          "data": {
            "text/plain": [
              "<Figure size 900x600 with 1 Axes>"
            ],
            "image/png": "[encoded data removed]"
          },
          "metadata": {}
        }
      ]
    },
    {
      "cell_type": "code",
      "metadata": {
        "colab": {
          "base_uri": "https://localhost:8080/",
          "height": 578
        },
        "id": "AfLAcn0MWJka",
        "outputId": "502e0e9b-2149-4300-e610-31274bb7e016"
      },
      "source": [
        "fig = plt.figure(figsize=(9, 6))\n",
        "ax = fig.gca()\n",
        "df.boxplot(column = 'tenure', by = 'Churn', ax = ax)\n",
        "ax.set_ylabel(\"Tenure\")\n",
        "plt.show()"
      ],
      "execution_count": 8,
      "outputs": [
        {
          "output_type": "display_data",
          "data": {
            "text/plain": [
              "<Figure size 900x600 with 1 Axes>"
            ],
            "image/png": "[encoded data removed]"
          },
          "metadata": {}
        }
      ]
    },
    {
      "cell_type": "markdown",
      "metadata": {
        "_uuid": "bdc113c2211cdaf6d2d09f58168e45844a8326bc",
        "id": "KyC_2Al6HmeW"
      },
      "source": [
        "## <b> Insights from our simple EDA: </b>\n",
        "* ### We can see a difference between our target classes on tenure as you can see in the second boxplot, which is good because our model (Logistic Regression) may use this to separate the two classes.\n",
        "* ### There is also a slight difference between our target classes on monthly charges as shown in the first boxplot."
      ]
    },
    {
      "cell_type": "markdown",
      "metadata": {
        "_uuid": "2ff6c9fd8f4daa714204d973fcb9212e502d0d39",
        "id": "UbjSPn3PHmeW"
      },
      "source": [
        "### Before we start predicting, an important step to do is to convert our **Churn** feature, which is a string, into integer. *Yes* will be converted to 1 and *No* will be converted to 0. We will name this new columns a \"class\"."
      ]
    },
    {
      "cell_type": "code",
      "metadata": {
        "trusted": true,
        "_uuid": "217cbb254d2328060d46c8a0839afd3e18ad707b",
        "id": "tuYEwVuqHmeX"
      },
      "source": [
        "df['class'] = df['Churn'].apply(lambda x : 1 if x == \"Yes\" else 0)\n",
        "# features will be saved as X and our target will be saved as y\n",
        "X = df[['tenure','MonthlyCharges']].copy()\n",
        "y = df['class'].copy()"
      ],
      "execution_count": 9,
      "outputs": []
    },
    {
      "cell_type": "code",
      "metadata": {
        "colab": {
          "base_uri": "https://localhost:8080/"
        },
        "id": "y5KL64G40Yhl",
        "outputId": "c0e415df-4f0b-4630-bfd0-482cc2b4ef96"
      },
      "source": [
        "df.shape"
      ],
      "execution_count": 10,
      "outputs": [
        {
          "output_type": "execute_result",
          "data": {
            "text/plain": [
              "(7043, 22)"
            ]
          },
          "metadata": {},
          "execution_count": 10
        }
      ]
    },
    {
      "cell_type": "markdown",
      "metadata": {
        "id": "p5gXHi_XLN79"
      },
      "source": [
        "## <b> Splitting data into train and test"
      ]
    },
    {
      "cell_type": "code",
      "metadata": {
        "colab": {
          "base_uri": "https://localhost:8080/"
        },
        "id": "BBn7EERU0aH9",
        "outputId": "dcdfe959-b952-4295-9cd8-6ba8967f78d6"
      },
      "source": [
        "from sklearn.model_selection import train_test_split\n",
        "X_train, X_test, y_train, y_test = train_test_split( X,y , test_size = 0.2, random_state = 43)\n",
        "print(X_train.shape)\n",
        "print(X_test.shape)"
      ],
      "execution_count": 47,
      "outputs": [
        {
          "output_type": "stream",
          "name": "stdout",
          "text": [
            "(5634, 2)\n",
            "(1409, 2)\n"
          ]
        }
      ]
    },
    {
      "cell_type": "code",
      "source": [
        "X_train.head()"
      ],
      "metadata": {
        "colab": {
          "base_uri": "https://localhost:8080/",
          "height": 206
        },
        "id": "18YHbGwlklCs",
        "outputId": "580faebf-4081-4190-b0fe-08668422b7a5"
      },
      "execution_count": 48,
      "outputs": [
        {
          "output_type": "execute_result",
          "data": {
            "text/plain": [
              "      tenure  MonthlyCharges\n",
              "6837       6           79.70\n",
              "5486      54           87.10\n",
              "5536       9           34.70\n",
              "156       22           84.15\n",
              "1775      65          109.05"
            ],
            "text/html": [
              "\n",
              "  <div id=\"df-d79637d0-0726-4d2b-a4ac-9f4330706e54\" class=\"colab-df-container\">\n",
              "    <div>\n",
              "<style scoped>\n",
              "    .dataframe tbody tr th:only-of-type {\n",
              "        vertical-align: middle;\n",
              "    }\n",
              "\n",
              "    .dataframe tbody tr th {\n",
              "        vertical-align: top;\n",
              "    }\n",
              "\n",
              "    .dataframe thead th {\n",
              "        text-align: right;\n",
              "    }\n",
              "</style>\n",
              "<table border=\"1\" class=\"dataframe\">\n",
              "  <thead>\n",
              "    <tr style=\"text-align: right;\">\n",
              "      <th></th>\n",
              "      <th>tenure</th>\n",
              "      <th>MonthlyCharges</th>\n",
              "    </tr>\n",
              "  </thead>\n",
              "  <tbody>\n",
              "    <tr>\n",
              "      <th>6837</th>\n",
              "      <td>6</td>\n",
              "      <td>79.70</td>\n",
              "    </tr>\n",
              "    <tr>\n",
              "      <th>5486</th>\n",
              "      <td>54</td>\n",
              "      <td>87.10</td>\n",
              "    </tr>\n",
              "    <tr>\n",
              "      <th>5536</th>\n",
              "      <td>9</td>\n",
              "      <td>34.70</td>\n",
              "    </tr>\n",
              "    <tr>\n",
              "      <th>156</th>\n",
              "      <td>22</td>\n",
              "      <td>84.15</td>\n",
              "    </tr>\n",
              "    <tr>\n",
              "      <th>1775</th>\n",
              "      <td>65</td>\n",
              "      <td>109.05</td>\n",
              "    </tr>\n",
              "  </tbody>\n",
              "</table>\n",
              "</div>\n",
              "    <div class=\"colab-df-buttons\">\n",
              "\n",
              "  <div class=\"colab-df-container\">\n",
              "    <button class=\"colab-df-convert\" onclick=\"convertToInteractive('df-d79637d0-0726-4d2b-a4ac-9f4330706e54')\"\n",
              "            title=\"Convert this dataframe to an interactive table.\"\n",
              "            style=\"display:none;\">\n",
              "\n",
              "  <svg xmlns=\"http://www.w3.org/2000/svg\" height=\"24px\" viewBox=\"0 -960 960 960\">\n",
              "    <path d=\"M120-120v-720h720v720H120Zm60-500h600v-160H180v160Zm220 220h160v-160H400v160Zm0 220h160v-160H400v160ZM180-400h160v-160H180v160Zm440 0h160v-160H620v160ZM180-180h160v-160H180v160Zm440 0h160v-160H620v160Z\"/>\n",
              "  </svg>\n",
              "    </button>\n",
              "\n",
              "  <style>\n",
              "    .colab-df-container {\n",
              "      display:flex;\n",
              "      gap: 12px;\n",
              "    }\n",
              "\n",
              "    .colab-df-convert {\n",
              "      background-color: #E8F0FE;\n",
              "      border: none;\n",
              "      border-radius: 50%;\n",
              "      cursor: pointer;\n",
              "      display: none;\n",
              "      fill: #1967D2;\n",
              "      height: 32px;\n",
              "      padding: 0 0 0 0;\n",
              "      width: 32px;\n",
              "    }\n",
              "\n",
              "    .colab-df-convert:hover {\n",
              "      background-color: #E2EBFA;\n",
              "      box-shadow: 0px 1px 2px rgba(60, 64, 67, 0.3), 0px 1px 3px 1px rgba(60, 64, 67, 0.15);\n",
              "      fill: #174EA6;\n",
              "    }\n",
              "\n",
              "    .colab-df-buttons div {\n",
              "      margin-bottom: 4px;\n",
              "    }\n",
              "\n",
              "    [theme=dark] .colab-df-convert {\n",
              "      background-color: #3B4455;\n",
              "      fill: #D2E3FC;\n",
              "    }\n",
              "\n",
              "    [theme=dark] .colab-df-convert:hover {\n",
              "      background-color: #434B5C;\n",
              "      box-shadow: 0px 1px 3px 1px rgba(0, 0, 0, 0.15);\n",
              "      filter: drop-shadow(0px 1px 2px rgba(0, 0, 0, 0.3));\n",
              "      fill: #FFFFFF;\n",
              "    }\n",
              "  </style>\n",
              "\n",
              "    <script>\n",
              "      const buttonEl =\n",
              "        document.querySelector('#df-d79637d0-0726-4d2b-a4ac-9f4330706e54 button.colab-df-convert');\n",
              "      buttonEl.style.display =\n",
              "        google.colab.kernel.accessAllowed ? 'block' : 'none';\n",
              "\n",
              "      async function convertToInteractive(key) {\n",
              "        const element = document.querySelector('#df-d79637d0-0726-4d2b-a4ac-9f4330706e54');\n",
              "        const dataTable =\n",
              "          await google.colab.kernel.invokeFunction('convertToInteractive',\n",
              "                                                    [key], {});\n",
              "        if (!dataTable) return;\n",
              "\n",
              "        const docLinkHtml = 'Like what you see? Visit the ' +\n",
              "          '<a target=\"_blank\" href=https://colab.research.google.com/notebooks/data_table.ipynb>data table notebook</a>'\n",
              "          + ' to learn more about interactive tables.';\n",
              "        element.innerHTML = '';\n",
              "        dataTable['output_type'] = 'display_data';\n",
              "        await google.colab.output.renderOutput(dataTable, element);\n",
              "        const docLink = document.createElement('div');\n",
              "        docLink.innerHTML = docLinkHtml;\n",
              "        element.appendChild(docLink);\n",
              "      }\n",
              "    </script>\n",
              "  </div>\n",
              "\n",
              "\n",
              "<div id=\"df-09a357dc-3bdf-4080-bb18-25b78509fcc9\">\n",
              "  <button class=\"colab-df-quickchart\" onclick=\"quickchart('df-09a357dc-3bdf-4080-bb18-25b78509fcc9')\"\n",
              "            title=\"Suggest charts.\"\n",
              "            style=\"display:none;\">\n",
              "\n",
              "<svg xmlns=\"http://www.w3.org/2000/svg\" height=\"24px\"viewBox=\"0 0 24 24\"\n",
              "     width=\"24px\">\n",
              "    <g>\n",
              "        <path d=\"M19 3H5c-1.1 0-2 .9-2 2v14c0 1.1.9 2 2 2h14c1.1 0 2-.9 2-2V5c0-1.1-.9-2-2-2zM9 17H7v-7h2v7zm4 0h-2V7h2v10zm4 0h-2v-4h2v4z\"/>\n",
              "    </g>\n",
              "</svg>\n",
              "  </button>\n",
              "\n",
              "<style>\n",
              "  .colab-df-quickchart {\n",
              "    background-color: #E8F0FE;\n",
              "    border: none;\n",
              "    border-radius: 50%;\n",
              "    cursor: pointer;\n",
              "    display: none;\n",
              "    fill: #1967D2;\n",
              "    height: 32px;\n",
              "    padding: 0 0 0 0;\n",
              "    width: 32px;\n",
              "  }\n",
              "\n",
              "  .colab-df-quickchart:hover {\n",
              "    background-color: #E2EBFA;\n",
              "    box-shadow: 0px 1px 2px rgba(60, 64, 67, 0.3), 0px 1px 3px 1px rgba(60, 64, 67, 0.15);\n",
              "    fill: #174EA6;\n",
              "  }\n",
              "\n",
              "  [theme=dark] .colab-df-quickchart {\n",
              "    background-color: #3B4455;\n",
              "    fill: #D2E3FC;\n",
              "  }\n",
              "\n",
              "  [theme=dark] .colab-df-quickchart:hover {\n",
              "    background-color: #434B5C;\n",
              "    box-shadow: 0px 1px 3px 1px rgba(0, 0, 0, 0.15);\n",
              "    filter: drop-shadow(0px 1px 2px rgba(0, 0, 0, 0.3));\n",
              "    fill: #FFFFFF;\n",
              "  }\n",
              "</style>\n",
              "\n",
              "  <script>\n",
              "    async function quickchart(key) {\n",
              "      const charts = await google.colab.kernel.invokeFunction(\n",
              "          'suggestCharts', [key], {});\n",
              "    }\n",
              "    (() => {\n",
              "      let quickchartButtonEl =\n",
              "        document.querySelector('#df-09a357dc-3bdf-4080-bb18-25b78509fcc9 button');\n",
              "      quickchartButtonEl.style.display =\n",
              "        google.colab.kernel.accessAllowed ? 'block' : 'none';\n",
              "    })();\n",
              "  </script>\n",
              "</div>\n",
              "    </div>\n",
              "  </div>\n"
            ]
          },
          "metadata": {},
          "execution_count": 48
        }
      ]
    },
    {
      "cell_type": "code",
      "metadata": {
        "colab": {
          "base_uri": "https://localhost:8080/"
        },
        "id": "oAuPZDvA4KJl",
        "outputId": "a173eb97-a9b6-411e-826f-3f417afd1dce"
      },
      "source": [
        "y_train.value_counts()"
      ],
      "execution_count": 49,
      "outputs": [
        {
          "output_type": "execute_result",
          "data": {
            "text/plain": [
              "0    4135\n",
              "1    1499\n",
              "Name: class, dtype: int64"
            ]
          },
          "metadata": {},
          "execution_count": 49
        }
      ]
    },
    {
      "cell_type": "code",
      "metadata": {
        "colab": {
          "base_uri": "https://localhost:8080/"
        },
        "id": "jQAcsnke4MzX",
        "outputId": "7f164d39-76a4-41bb-c8e5-984c5a8e4a67"
      },
      "source": [
        "y_test.value_counts()"
      ],
      "execution_count": 50,
      "outputs": [
        {
          "output_type": "execute_result",
          "data": {
            "text/plain": [
              "0    1039\n",
              "1     370\n",
              "Name: class, dtype: int64"
            ]
          },
          "metadata": {},
          "execution_count": 50
        }
      ]
    },
    {
      "cell_type": "markdown",
      "metadata": {
        "id": "gOcduvK5LRzH"
      },
      "source": [
        "## <b>Fitting logistic regression on train data"
      ]
    },
    {
      "cell_type": "code",
      "metadata": {
        "trusted": true,
        "_uuid": "baa9151be6db67ebb0f5eba1f8e57deb385c5fd4",
        "id": "Kya7fC3xHmeZ",
        "colab": {
          "base_uri": "https://localhost:8080/",
          "height": 75
        },
        "outputId": "ddbd3cd5-0e12-4e30-a6e5-d925815b1c37"
      },
      "source": [
        "from sklearn.linear_model import LogisticRegression\n",
        "\n",
        "clf = LogisticRegression()\n",
        "clf.fit(X_train, y_train)"
      ],
      "execution_count": 52,
      "outputs": [
        {
          "output_type": "execute_result",
          "data": {
            "text/plain": [
              "LogisticRegression()"
            ],
            "text/html": [
              "<style>#sk-container-id-3 {color: black;background-color: white;}#sk-container-id-3 pre{padding: 0;}#sk-container-id-3 div.sk-toggleable {background-color: white;}#sk-container-id-3 label.sk-toggleable__label {cursor: pointer;display: block;width: 100%;margin-bottom: 0;padding: 0.3em;box-sizing: border-box;text-align: center;}#sk-container-id-3 label.sk-toggleable__label-arrow:before {content: \"▸\";float: left;margin-right: 0.25em;color: #696969;}#sk-container-id-3 label.sk-toggleable__label-arrow:hover:before {color: black;}#sk-container-id-3 div.sk-estimator:hover label.sk-toggleable__label-arrow:before {color: black;}#sk-container-id-3 div.sk-toggleable__content {max-height: 0;max-width: 0;overflow: hidden;text-align: left;background-color: #f0f8ff;}#sk-container-id-3 div.sk-toggleable__content pre {margin: 0.2em;color: black;border-radius: 0.25em;background-color: #f0f8ff;}#sk-container-id-3 input.sk-toggleable__control:checked~div.sk-toggleable__content {max-height: 200px;max-width: 100%;overflow: auto;}#sk-container-id-3 input.sk-toggleable__control:checked~label.sk-toggleable__label-arrow:before {content: \"▾\";}#sk-container-id-3 div.sk-estimator input.sk-toggleable__control:checked~label.sk-toggleable__label {background-color: #d4ebff;}#sk-container-id-3 div.sk-label input.sk-toggleable__control:checked~label.sk-toggleable__label {background-color: #d4ebff;}#sk-container-id-3 input.sk-hidden--visually {border: 0;clip: rect(1px 1px 1px 1px);clip: rect(1px, 1px, 1px, 1px);height: 1px;margin: -1px;overflow: hidden;padding: 0;position: absolute;width: 1px;}#sk-container-id-3 div.sk-estimator {font-family: monospace;background-color: #f0f8ff;border: 1px dotted black;border-radius: 0.25em;box-sizing: border-box;margin-bottom: 0.5em;}#sk-container-id-3 div.sk-estimator:hover {background-color: #d4ebff;}#sk-container-id-3 div.sk-parallel-item::after {content: \"\";width: 100%;border-bottom: 1px solid gray;flex-grow: 1;}#sk-container-id-3 div.sk-label:hover label.sk-toggleable__label {background-color: #d4ebff;}#sk-container-id-3 div.sk-serial::before {content: \"\";position: absolute;border-left: 1px solid gray;box-sizing: border-box;top: 0;bottom: 0;left: 50%;z-index: 0;}#sk-container-id-3 div.sk-serial {display: flex;flex-direction: column;align-items: center;background-color: white;padding-right: 0.2em;padding-left: 0.2em;position: relative;}#sk-container-id-3 div.sk-item {position: relative;z-index: 1;}#sk-container-id-3 div.sk-parallel {display: flex;align-items: stretch;justify-content: center;background-color: white;position: relative;}#sk-container-id-3 div.sk-item::before, #sk-container-id-3 div.sk-parallel-item::before {content: \"\";position: absolute;border-left: 1px solid gray;box-sizing: border-box;top: 0;bottom: 0;left: 50%;z-index: -1;}#sk-container-id-3 div.sk-parallel-item {display: flex;flex-direction: column;z-index: 1;position: relative;background-color: white;}#sk-container-id-3 div.sk-parallel-item:first-child::after {align-self: flex-end;width: 50%;}#sk-container-id-3 div.sk-parallel-item:last-child::after {align-self: flex-start;width: 50%;}#sk-container-id-3 div.sk-parallel-item:only-child::after {width: 0;}#sk-container-id-3 div.sk-dashed-wrapped {border: 1px dashed gray;margin: 0 0.4em 0.5em 0.4em;box-sizing: border-box;padding-bottom: 0.4em;background-color: white;}#sk-container-id-3 div.sk-label label {font-family: monospace;font-weight: bold;display: inline-block;line-height: 1.2em;}#sk-container-id-3 div.sk-label-container {text-align: center;}#sk-container-id-3 div.sk-container {/* jupyter's `normalize.less` sets `[hidden] { display: none; }` but bootstrap.min.css set `[hidden] { display: none !important; }` so we also need the `!important` here to be able to override the default hidden behavior on the sphinx rendered scikit-learn.org. See: https://github.com/scikit-learn/scikit-learn/issues/21755 */display: inline-block !important;position: relative;}#sk-container-id-3 div.sk-text-repr-fallback {display: none;}</style><div id=\"sk-container-id-3\" class=\"sk-top-container\"><div class=\"sk-text-repr-fallback\"><pre>LogisticRegression()</pre><b>In a Jupyter environment, please rerun this cell to show the HTML representation or trust the notebook. <br />On GitHub, the HTML representation is unable to render, please try loading this page with nbviewer.org.</b></div><div class=\"sk-container\" hidden><div class=\"sk-item\"><div class=\"sk-estimator sk-toggleable\"><input class=\"sk-toggleable__control sk-hidden--visually\" id=\"sk-estimator-id-3\" type=\"checkbox\" checked><label for=\"sk-estimator-id-3\" class=\"sk-toggleable__label sk-toggleable__label-arrow\">LogisticRegression</label><div class=\"sk-toggleable__content\"><pre>LogisticRegression()</pre></div></div></div></div></div>"
            ]
          },
          "metadata": {},
          "execution_count": 52
        }
      ]
    },
    {
      "cell_type": "code",
      "metadata": {
        "colab": {
          "base_uri": "https://localhost:8080/"
        },
        "id": "K9ajM11FI6l1",
        "outputId": "6abc3fd1-4edc-4146-ebfb-65c4beef47b5"
      },
      "source": [
        "clf.coef_"
      ],
      "execution_count": 53,
      "outputs": [
        {
          "output_type": "execute_result",
          "data": {
            "text/plain": [
              "array([[-0.05334249,  0.0324454 ]])"
            ]
          },
          "metadata": {},
          "execution_count": 53
        }
      ]
    },
    {
      "cell_type": "code",
      "metadata": {
        "colab": {
          "base_uri": "https://localhost:8080/"
        },
        "id": "pqZg8WvL0lMs",
        "outputId": "e4e2418a-e450-4ca3-b6e1-180b9685adeb"
      },
      "source": [
        "# Get the model coefficients\n",
        "clf.coef_"
      ],
      "execution_count": 54,
      "outputs": [
        {
          "output_type": "execute_result",
          "data": {
            "text/plain": [
              "array([[-0.05334249,  0.0324454 ]])"
            ]
          },
          "metadata": {},
          "execution_count": 54
        }
      ]
    },
    {
      "cell_type": "code",
      "metadata": {
        "colab": {
          "base_uri": "https://localhost:8080/"
        },
        "id": "Bke4u14WHj1X",
        "outputId": "46b68032-a6f6-4971-d256-5be9b1f52094"
      },
      "source": [
        "clf.intercept_"
      ],
      "execution_count": 55,
      "outputs": [
        {
          "output_type": "execute_result",
          "data": {
            "text/plain": [
              "array([-1.7936109])"
            ]
          },
          "metadata": {},
          "execution_count": 55
        }
      ]
    },
    {
      "cell_type": "markdown",
      "metadata": {
        "id": "1PmvR90DLael"
      },
      "source": [
        "## <b>Evaluating the performance of the trained model"
      ]
    },
    {
      "cell_type": "code",
      "metadata": {
        "id": "7nFfOzPZ071w"
      },
      "source": [
        "# Get the predicted probabilities\n",
        "train_preds = clf.predict_proba(X_train)\n",
        "test_preds = clf.predict_proba(X_test)"
      ],
      "execution_count": 56,
      "outputs": []
    },
    {
      "cell_type": "code",
      "metadata": {
        "colab": {
          "base_uri": "https://localhost:8080/",
          "height": 424
        },
        "id": "uQkeeT8IHyjU",
        "outputId": "462a128d-702e-4bc7-ecf0-33972ee0e18b"
      },
      "source": [
        "X_test"
      ],
      "execution_count": 57,
      "outputs": [
        {
          "output_type": "execute_result",
          "data": {
            "text/plain": [
              "      tenure  MonthlyCharges\n",
              "1826      65           90.65\n",
              "2342      30          106.40\n",
              "6901      30           68.95\n",
              "972       58           70.10\n",
              "4281      50           35.00\n",
              "...      ...             ...\n",
              "1528      19           56.20\n",
              "1355       9           19.50\n",
              "1369      33           60.90\n",
              "1189       3           85.70\n",
              "2621      71           79.10\n",
              "\n",
              "[1409 rows x 2 columns]"
            ],
            "text/html": [
              "\n",
              "  <div id=\"df-a7168b95-ae41-476a-bef3-c184f0b2c6a1\" class=\"colab-df-container\">\n",
              "    <div>\n",
              "<style scoped>\n",
              "    .dataframe tbody tr th:only-of-type {\n",
              "        vertical-align: middle;\n",
              "    }\n",
              "\n",
              "    .dataframe tbody tr th {\n",
              "        vertical-align: top;\n",
              "    }\n",
              "\n",
              "    .dataframe thead th {\n",
              "        text-align: right;\n",
              "    }\n",
              "</style>\n",
              "<table border=\"1\" class=\"dataframe\">\n",
              "  <thead>\n",
              "    <tr style=\"text-align: right;\">\n",
              "      <th></th>\n",
              "      <th>tenure</th>\n",
              "      <th>MonthlyCharges</th>\n",
              "    </tr>\n",
              "  </thead>\n",
              "  <tbody>\n",
              "    <tr>\n",
              "      <th>1826</th>\n",
              "      <td>65</td>\n",
              "      <td>90.65</td>\n",
              "    </tr>\n",
              "    <tr>\n",
              "      <th>2342</th>\n",
              "      <td>30</td>\n",
              "      <td>106.40</td>\n",
              "    </tr>\n",
              "    <tr>\n",
              "      <th>6901</th>\n",
              "      <td>30</td>\n",
              "      <td>68.95</td>\n",
              "    </tr>\n",
              "    <tr>\n",
              "      <th>972</th>\n",
              "      <td>58</td>\n",
              "      <td>70.10</td>\n",
              "    </tr>\n",
              "    <tr>\n",
              "      <th>4281</th>\n",
              "      <td>50</td>\n",
              "      <td>35.00</td>\n",
              "    </tr>\n",
              "    <tr>\n",
              "      <th>...</th>\n",
              "      <td>...</td>\n",
              "      <td>...</td>\n",
              "    </tr>\n",
              "    <tr>\n",
              "      <th>1528</th>\n",
              "      <td>19</td>\n",
              "      <td>56.20</td>\n",
              "    </tr>\n",
              "    <tr>\n",
              "      <th>1355</th>\n",
              "      <td>9</td>\n",
              "      <td>19.50</td>\n",
              "    </tr>\n",
              "    <tr>\n",
              "      <th>1369</th>\n",
              "      <td>33</td>\n",
              "      <td>60.90</td>\n",
              "    </tr>\n",
              "    <tr>\n",
              "      <th>1189</th>\n",
              "      <td>3</td>\n",
              "      <td>85.70</td>\n",
              "    </tr>\n",
              "    <tr>\n",
              "      <th>2621</th>\n",
              "      <td>71</td>\n",
              "      <td>79.10</td>\n",
              "    </tr>\n",
              "  </tbody>\n",
              "</table>\n",
              "<p>1409 rows × 2 columns</p>\n",
              "</div>\n",
              "    <div class=\"colab-df-buttons\">\n",
              "\n",
              "  <div class=\"colab-df-container\">\n",
              "    <button class=\"colab-df-convert\" onclick=\"convertToInteractive('df-a7168b95-ae41-476a-bef3-c184f0b2c6a1')\"\n",
              "            title=\"Convert this dataframe to an interactive table.\"\n",
              "            style=\"display:none;\">\n",
              "\n",
              "  <svg xmlns=\"http://www.w3.org/2000/svg\" height=\"24px\" viewBox=\"0 -960 960 960\">\n",
              "    <path d=\"M120-120v-720h720v720H120Zm60-500h600v-160H180v160Zm220 220h160v-160H400v160Zm0 220h160v-160H400v160ZM180-400h160v-160H180v160Zm440 0h160v-160H620v160ZM180-180h160v-160H180v160Zm440 0h160v-160H620v160Z\"/>\n",
              "  </svg>\n",
              "    </button>\n",
              "\n",
              "  <style>\n",
              "    .colab-df-container {\n",
              "      display:flex;\n",
              "      gap: 12px;\n",
              "    }\n",
              "\n",
              "    .colab-df-convert {\n",
              "      background-color: #E8F0FE;\n",
              "      border: none;\n",
              "      border-radius: 50%;\n",
              "      cursor: pointer;\n",
              "      display: none;\n",
              "      fill: #1967D2;\n",
              "      height: 32px;\n",
              "      padding: 0 0 0 0;\n",
              "      width: 32px;\n",
              "    }\n",
              "\n",
              "    .colab-df-convert:hover {\n",
              "      background-color: #E2EBFA;\n",
              "      box-shadow: 0px 1px 2px rgba(60, 64, 67, 0.3), 0px 1px 3px 1px rgba(60, 64, 67, 0.15);\n",
              "      fill: #174EA6;\n",
              "    }\n",
              "\n",
              "    .colab-df-buttons div {\n",
              "      margin-bottom: 4px;\n",
              "    }\n",
              "\n",
              "    [theme=dark] .colab-df-convert {\n",
              "      background-color: #3B4455;\n",
              "      fill: #D2E3FC;\n",
              "    }\n",
              "\n",
              "    [theme=dark] .colab-df-convert:hover {\n",
              "      background-color: #434B5C;\n",
              "      box-shadow: 0px 1px 3px 1px rgba(0, 0, 0, 0.15);\n",
              "      filter: drop-shadow(0px 1px 2px rgba(0, 0, 0, 0.3));\n",
              "      fill: #FFFFFF;\n",
              "    }\n",
              "  </style>\n",
              "\n",
              "    <script>\n",
              "      const buttonEl =\n",
              "        document.querySelector('#df-a7168b95-ae41-476a-bef3-c184f0b2c6a1 button.colab-df-convert');\n",
              "      buttonEl.style.display =\n",
              "        google.colab.kernel.accessAllowed ? 'block' : 'none';\n",
              "\n",
              "      async function convertToInteractive(key) {\n",
              "        const element = document.querySelector('#df-a7168b95-ae41-476a-bef3-c184f0b2c6a1');\n",
              "        const dataTable =\n",
              "          await google.colab.kernel.invokeFunction('convertToInteractive',\n",
              "                                                    [key], {});\n",
              "        if (!dataTable) return;\n",
              "\n",
              "        const docLinkHtml = 'Like what you see? Visit the ' +\n",
              "          '<a target=\"_blank\" href=https://colab.research.google.com/notebooks/data_table.ipynb>data table notebook</a>'\n",
              "          + ' to learn more about interactive tables.';\n",
              "        element.innerHTML = '';\n",
              "        dataTable['output_type'] = 'display_data';\n",
              "        await google.colab.output.renderOutput(dataTable, element);\n",
              "        const docLink = document.createElement('div');\n",
              "        docLink.innerHTML = docLinkHtml;\n",
              "        element.appendChild(docLink);\n",
              "      }\n",
              "    </script>\n",
              "  </div>\n",
              "\n",
              "\n",
              "<div id=\"df-0a43abeb-2b35-45b4-bcc3-d9970e4a32d4\">\n",
              "  <button class=\"colab-df-quickchart\" onclick=\"quickchart('df-0a43abeb-2b35-45b4-bcc3-d9970e4a32d4')\"\n",
              "            title=\"Suggest charts.\"\n",
              "            style=\"display:none;\">\n",
              "\n",
              "<svg xmlns=\"http://www.w3.org/2000/svg\" height=\"24px\"viewBox=\"0 0 24 24\"\n",
              "     width=\"24px\">\n",
              "    <g>\n",
              "        <path d=\"M19 3H5c-1.1 0-2 .9-2 2v14c0 1.1.9 2 2 2h14c1.1 0 2-.9 2-2V5c0-1.1-.9-2-2-2zM9 17H7v-7h2v7zm4 0h-2V7h2v10zm4 0h-2v-4h2v4z\"/>\n",
              "    </g>\n",
              "</svg>\n",
              "  </button>\n",
              "\n",
              "<style>\n",
              "  .colab-df-quickchart {\n",
              "    background-color: #E8F0FE;\n",
              "    border: none;\n",
              "    border-radius: 50%;\n",
              "    cursor: pointer;\n",
              "    display: none;\n",
              "    fill: #1967D2;\n",
              "    height: 32px;\n",
              "    padding: 0 0 0 0;\n",
              "    width: 32px;\n",
              "  }\n",
              "\n",
              "  .colab-df-quickchart:hover {\n",
              "    background-color: #E2EBFA;\n",
              "    box-shadow: 0px 1px 2px rgba(60, 64, 67, 0.3), 0px 1px 3px 1px rgba(60, 64, 67, 0.15);\n",
              "    fill: #174EA6;\n",
              "  }\n",
              "\n",
              "  [theme=dark] .colab-df-quickchart {\n",
              "    background-color: #3B4455;\n",
              "    fill: #D2E3FC;\n",
              "  }\n",
              "\n",
              "  [theme=dark] .colab-df-quickchart:hover {\n",
              "    background-color: #434B5C;\n",
              "    box-shadow: 0px 1px 3px 1px rgba(0, 0, 0, 0.15);\n",
              "    filter: drop-shadow(0px 1px 2px rgba(0, 0, 0, 0.3));\n",
              "    fill: #FFFFFF;\n",
              "  }\n",
              "</style>\n",
              "\n",
              "  <script>\n",
              "    async function quickchart(key) {\n",
              "      const charts = await google.colab.kernel.invokeFunction(\n",
              "          'suggestCharts', [key], {});\n",
              "    }\n",
              "    (() => {\n",
              "      let quickchartButtonEl =\n",
              "        document.querySelector('#df-0a43abeb-2b35-45b4-bcc3-d9970e4a32d4 button');\n",
              "      quickchartButtonEl.style.display =\n",
              "        google.colab.kernel.accessAllowed ? 'block' : 'none';\n",
              "    })();\n",
              "  </script>\n",
              "</div>\n",
              "    </div>\n",
              "  </div>\n"
            ]
          },
          "metadata": {},
          "execution_count": 57
        }
      ]
    },
    {
      "cell_type": "code",
      "metadata": {
        "colab": {
          "base_uri": "https://localhost:8080/"
        },
        "id": "1d2zyxWc1ERa",
        "outputId": "45d54cef-c2ed-470c-adbc-1a073502ec07"
      },
      "source": [
        "test_preds"
      ],
      "execution_count": 58,
      "outputs": [
        {
          "output_type": "execute_result",
          "data": {
            "text/plain": [
              "array([[0.91049525, 0.08950475],\n",
              "       [0.48542779, 0.51457221],\n",
              "       [0.76074623, 0.23925377],\n",
              "       ...,\n",
              "       [0.82891938, 0.17108062],\n",
              "       [0.30429402, 0.69570598],\n",
              "       [0.95322474, 0.04677526]])"
            ]
          },
          "metadata": {},
          "execution_count": 58
        }
      ]
    },
    {
      "cell_type": "code",
      "metadata": {
        "id": "Co67r98QGUV4"
      },
      "source": [
        "train_preds = clf.predict_proba(X_train)[:,1]\n",
        "test_preds = clf.predict_proba(X_test)[:,1]"
      ],
      "execution_count": 59,
      "outputs": []
    },
    {
      "cell_type": "code",
      "metadata": {
        "colab": {
          "base_uri": "https://localhost:8080/"
        },
        "id": "f-UsMj5UGzbt",
        "outputId": "c2cf8f67-fcc7-4f69-edb3-8be3f5873685"
      },
      "source": [
        "test_preds"
      ],
      "execution_count": 60,
      "outputs": [
        {
          "output_type": "execute_result",
          "data": {
            "text/plain": [
              "array([0.08950475, 0.51457221, 0.23925377, ..., 0.17108062, 0.69570598,\n",
              "       0.04677526])"
            ]
          },
          "metadata": {},
          "execution_count": 60
        }
      ]
    },
    {
      "cell_type": "code",
      "metadata": {
        "id": "zA_GNVZl0o39"
      },
      "source": [
        "# Get the predicted classes\n",
        "train_class_preds = clf.predict(X_train)\n",
        "test_class_preds = clf.predict(X_test)"
      ],
      "execution_count": 61,
      "outputs": []
    },
    {
      "cell_type": "code",
      "metadata": {
        "colab": {
          "base_uri": "https://localhost:8080/"
        },
        "id": "kNvgZDsN01Sf",
        "outputId": "c8ef6a6b-e3a5-417b-9ee3-e8e5c9eca9a2"
      },
      "source": [
        "train_class_preds"
      ],
      "execution_count": 62,
      "outputs": [
        {
          "output_type": "execute_result",
          "data": {
            "text/plain": [
              "array([1, 0, 0, ..., 0, 0, 0])"
            ]
          },
          "metadata": {},
          "execution_count": 62
        }
      ]
    },
    {
      "cell_type": "code",
      "metadata": {
        "id": "GezPz5272Cam"
      },
      "source": [
        "from sklearn.metrics import accuracy_score, confusion_matrix\n",
        "import seaborn as sns"
      ],
      "execution_count": 25,
      "outputs": []
    },
    {
      "cell_type": "code",
      "metadata": {
        "trusted": true,
        "_uuid": "7733588210ee7cf06bc152c4b84d5c077a0b8ce6",
        "id": "6-hUcMN0HmeZ",
        "colab": {
          "base_uri": "https://localhost:8080/"
        },
        "outputId": "2fc030cb-e87c-4924-cd47-e910e75e8768"
      },
      "source": [
        "# Get the accuracy scores\n",
        "train_accuracy = accuracy_score(train_class_preds,y_train)\n",
        "test_accuracy = accuracy_score(test_class_preds,y_test)\n",
        "\n",
        "print(\"The accuracy on train data is \", train_accuracy)\n",
        "print(\"The accuracy on test data is \", test_accuracy)"
      ],
      "execution_count": 63,
      "outputs": [
        {
          "output_type": "stream",
          "name": "stdout",
          "text": [
            "The accuracy on train data is  0.7831025914093007\n",
            "The accuracy on test data is  0.7913413768630234\n"
          ]
        }
      ]
    },
    {
      "cell_type": "markdown",
      "metadata": {
        "id": "EKgQfXR4ZxJM"
      },
      "source": [
        "#<b> <u>Learning about the confusion matrix"
      ]
    },
    {
      "cell_type": "markdown",
      "metadata": {
        "id": "b5EHP7CPXe2I"
      },
      "source": [
        "![CF.jpg](data:image/jpeg;base64,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)"
      ]
    },
    {
      "cell_type": "code",
      "metadata": {
        "colab": {
          "base_uri": "https://localhost:8080/",
          "height": 524
        },
        "id": "xHbS-gxF4ZwO",
        "outputId": "4bcf3193-7fd1-4222-eca8-2b5ce9199c77"
      },
      "source": [
        "# Get the confusion matrix for both train and test\n",
        "\n",
        "labels = ['Retained', 'Churned']\n",
        "cm = confusion_matrix(y_train, train_class_preds)\n",
        "print(cm)\n",
        "\n",
        "ax= plt.subplot()\n",
        "sns.heatmap(cm, annot=True, ax = ax) #annot=True to annotate cells\n",
        "\n",
        "# labels, title and ticks\n",
        "ax.set_xlabel('Predicted labels')\n",
        "ax.set_ylabel('True labels')\n",
        "ax.set_title('Confusion Matrix')\n",
        "ax.xaxis.set_ticklabels(labels)\n",
        "ax.yaxis.set_ticklabels(labels)"
      ],
      "execution_count": 64,
      "outputs": [
        {
          "output_type": "stream",
          "name": "stdout",
          "text": [
            "[[3754  381]\n",
            " [ 841  658]]\n"
          ]
        },
        {
          "output_type": "execute_result",
          "data": {
            "text/plain": [
              "[Text(0, 0.5, 'Retained'), Text(0, 1.5, 'Churned')]"
            ]
          },
          "metadata": {},
          "execution_count": 64
        },
        {
          "output_type": "display_data",
          "data": {
            "text/plain": [
              "<Figure size 640x480 with 2 Axes>"
            ],
            "image/png": "[encoded data removed]"
          },
          "metadata": {}
        }
      ]
    },
    {
      "cell_type": "code",
      "metadata": {
        "colab": {
          "base_uri": "https://localhost:8080/",
          "height": 524
        },
        "id": "J1lVVlEX27nM",
        "outputId": "4a0268b8-e686-4f55-c2c3-69e47d9ba611"
      },
      "source": [
        "# Get the confusion matrix for both train and test\n",
        "\n",
        "labels = ['Retained', 'Churned']\n",
        "cm = confusion_matrix(y_test, test_class_preds)\n",
        "print(cm)\n",
        "\n",
        "ax= plt.subplot()\n",
        "sns.heatmap(cm, annot=True, ax = ax); #annot=True to annotate cells\n",
        "\n",
        "# labels, title and ticks\n",
        "ax.set_xlabel('Predicted labels')\n",
        "ax.set_ylabel('True labels')\n",
        "ax.set_title('Confusion Matrix')\n",
        "ax.xaxis.set_ticklabels(labels)\n",
        "ax.yaxis.set_ticklabels(labels)"
      ],
      "execution_count": 65,
      "outputs": [
        {
          "output_type": "stream",
          "name": "stdout",
          "text": [
            "[[947  92]\n",
            " [202 168]]\n"
          ]
        },
        {
          "output_type": "execute_result",
          "data": {
            "text/plain": [
              "[Text(0, 0.5, 'Retained'), Text(0, 1.5, 'Churned')]"
            ]
          },
          "metadata": {},
          "execution_count": 65
        },
        {
          "output_type": "display_data",
          "data": {
            "text/plain": [
              "<Figure size 640x480 with 2 Axes>"
            ],
            "image/png": "[encoded data removed]"
          },
          "metadata": {}
        }
      ]
    },
    {
      "cell_type": "markdown",
      "metadata": {
        "id": "ut6Z2EFrLgYJ"
      },
      "source": [
        "## <b><u>Implementing Cross-validated Logistic Regression"
      ]
    },
    {
      "cell_type": "code",
      "metadata": {
        "id": "uPrin3IG5kCp"
      },
      "source": [
        "from sklearn.linear_model import LogisticRegressionCV\n",
        "from sklearn.model_selection import cross_validate"
      ],
      "execution_count": 66,
      "outputs": []
    },
    {
      "cell_type": "code",
      "metadata": {
        "id": "FAIV9X2gFfL2"
      },
      "source": [
        "logistic = LogisticRegression()"
      ],
      "execution_count": 67,
      "outputs": []
    },
    {
      "cell_type": "code",
      "metadata": {
        "colab": {
          "base_uri": "https://localhost:8080/"
        },
        "id": "M8hlX3nyFYH2",
        "outputId": "fbf70df1-493e-4727-96fa-b9b0af1628ae"
      },
      "source": [
        "scoring = ['accuracy']\n",
        "scores = cross_validate(logistic,X_train, y_train, scoring = scoring, cv = 5, return_train_score=True,return_estimator=True,verbose = 10)"
      ],
      "execution_count": 70,
      "outputs": [
        {
          "output_type": "stream",
          "name": "stdout",
          "text": [
            "[CV] START .....................................................................\n",
            "[CV] END ................ accuracy: (train=0.785, test=0.778) total time=   0.0s\n",
            "[CV] START .....................................................................\n",
            "[CV] END ................ accuracy: (train=0.784, test=0.783) total time=   0.0s\n",
            "[CV] START .....................................................................\n",
            "[CV] END ................ accuracy: (train=0.783, test=0.781) total time=   0.0s\n",
            "[CV] START .....................................................................\n",
            "[CV] END ................ accuracy: (train=0.784, test=0.780) total time=   0.0s\n",
            "[CV] START .....................................................................\n",
            "[CV] END ................ accuracy: (train=0.781, test=0.794) total time=   0.0s\n"
          ]
        },
        {
          "output_type": "stream",
          "name": "stderr",
          "text": [
            "[Parallel(n_jobs=1)]: Done   1 tasks      | elapsed:    0.0s\n",
            "[Parallel(n_jobs=1)]: Done   4 tasks      | elapsed:    0.1s\n"
          ]
        }
      ]
    },
    {
      "cell_type": "code",
      "metadata": {
        "colab": {
          "base_uri": "https://localhost:8080/"
        },
        "id": "xxWSL1hnFuje",
        "outputId": "1fc6ca33-c473-4073-bd5d-55cd29cfc339"
      },
      "source": [
        "scores['train_accuracy']"
      ],
      "execution_count": 71,
      "outputs": [
        {
          "output_type": "execute_result",
          "data": {
            "text/plain": [
              "array([0.78477923, 0.78389172, 0.78344797, 0.78389172, 0.78149956])"
            ]
          },
          "metadata": {},
          "execution_count": 71
        }
      ]
    },
    {
      "cell_type": "code",
      "metadata": {
        "colab": {
          "base_uri": "https://localhost:8080/"
        },
        "id": "BXHA9l1yFw7r",
        "outputId": "7e046d08-bcd3-4231-8237-e9b24c158a5f"
      },
      "source": [
        "scores['test_accuracy']"
      ],
      "execution_count": 72,
      "outputs": [
        {
          "output_type": "execute_result",
          "data": {
            "text/plain": [
              "array([0.77817214, 0.7826087 , 0.78083407, 0.77994676, 0.79396092])"
            ]
          },
          "metadata": {},
          "execution_count": 72
        }
      ]
    },
    {
      "cell_type": "code",
      "metadata": {
        "colab": {
          "base_uri": "https://localhost:8080/"
        },
        "id": "3DEJJcBkF6fg",
        "outputId": "bcf6ab7d-a56a-4a0b-8a15-cc44343d789d"
      },
      "source": [
        "scores['estimator']"
      ],
      "execution_count": 73,
      "outputs": [
        {
          "output_type": "execute_result",
          "data": {
            "text/plain": [
              "[LogisticRegression(),\n",
              " LogisticRegression(),\n",
              " LogisticRegression(),\n",
              " LogisticRegression(),\n",
              " LogisticRegression()]"
            ]
          },
          "metadata": {},
          "execution_count": 73
        }
      ]
    },
    {
      "cell_type": "code",
      "metadata": {
        "colab": {
          "base_uri": "https://localhost:8080/"
        },
        "id": "9MMNQNSlGQ6h",
        "outputId": "d0764a3f-9f12-470c-97db-f2dd8194ce34"
      },
      "source": [
        "for model in scores['estimator']:\n",
        "    print(model.coef_)"
      ],
      "execution_count": 74,
      "outputs": [
        {
          "output_type": "stream",
          "name": "stdout",
          "text": [
            "[[-0.05332385  0.03230257]]\n",
            "[[-0.05289711  0.03128765]]\n",
            "[[-0.05363048  0.03307534]]\n",
            "[[-0.05375963  0.03271301]]\n",
            "[[-0.05314288  0.03287492]]\n"
          ]
        }
      ]
    },
    {
      "cell_type": "markdown",
      "metadata": {
        "id": "P7AI8rTvlYB5"
      },
      "source": [
        "# <b><u> Evaluation metrics for classification models </u></b>\n",
        "\n",
        "* #### <b><u>Accuracy</u></b> : Accuracy will require two inputs (i) actual class labels (ii)predicted class labels. To get the class labels from probabilities( these probabilities will be probabilities of getting a HIT), you can take a threshold of 0.5. Any probability above 0.5 will be labeled as class 1 and anything less than 0.5 will be labeled as class 0.\n",
        "\n",
        "\n",
        "* #### <b><u>Precision</u></b> :  Precision for a label is defined as the number of true positives divided by the number of predicted positives. Report precision in percentages.\n",
        "\n",
        "* #### <b><u>Recall</u></b> : Recall for a label is defined as the number of true positives divided by the total number of actual positives. Report recall in percentages.\n",
        "\n",
        "* #### <b><u>F1-Score</u></b> : This is defined as the harmonic mean of precision and recall.\n",
        "\n",
        "* #### <b><u>Log Loss</u></b> : This is defined as \\begin{align*}\n",
        "  Log Loss &= \\sum_{i=1}^{M} [ y^{i}log(P^{i}) + (1- y^{i})log(1 - P^{i} )]\\\\\n",
        "\\end{align*}\n",
        "\n",
        " Here M refers to the number of observations and $y^{i}$ = 1 or 0 depending upon the label for the $i^{th}$ observation and $P^{i}$ is the probability of class 1 or probability of getting a HIT.\n",
        "\n",
        "* #### <b><u>AUC-ROC</u></b> - The Receiver Operator Characteristic (ROC) curve is an evaluation metric for binary classification problems. It is a probability curve that plots the TPR against FPR at various threshold values and essentially separates the ‘signal’ from the ‘noise’. The Area Under the Curve (AUC) is the measure of the ability of a classifier to distinguish between classes and is used as a summary of the ROC curve.\n"
      ]
    },
    {
      "cell_type": "code",
      "metadata": {
        "id": "q4WPRtsemR2m"
      },
      "source": [],
      "execution_count": 35,
      "outputs": []
    }
  ]
}